{
 "cells": [
  {
   "cell_type": "code",
   "execution_count": 1,
   "id": "ed2126fa-231c-4831-b6ba-51ec1cc4dd82",
   "metadata": {},
   "outputs": [
    {
     "name": "stdout",
     "output_type": "stream",
     "text": [
      "     relationship  hours-per-week  count\n",
      "0         Husband              13      1\n",
      "1         Husband              40      4\n",
      "2         Husband              45      1\n",
      "3         Husband              80      1\n",
      "4   Not-in-family              16      1\n",
      "5   Not-in-family              40      2\n",
      "6   Not-in-family              50      2\n",
      "7       Own-child              30      1\n",
      "8            Wife              40      2\n",
      "     relationship  hours-per-week  count\n",
      "0         Husband               3      1\n",
      "1         Husband              30      4\n",
      "2         Husband              35      1\n",
      "3         Husband              70      1\n",
      "4   Not-in-family               6      1\n",
      "5   Not-in-family              30      2\n",
      "6   Not-in-family              40      2\n",
      "7       Own-child              20      1\n",
      "8            Wife              30      2\n"
     ]
    }
   ],
   "source": [
    "import pandas as pd\n",
    "df = pd.read_csv(\"adult_data_mini.csv\")\n",
    "n = 10\n",
    "group_by_relationship = df.groupby([\"relationship\",\"hours-per-week\"]).size().reset_index(name=\"count\")\n",
    "print(group_by_relationship.head(20))\n",
    "def reduce_hours(x,n):\n",
    "    return max(0,x-n)\n",
    "df['hours-per-week'] = df['hours-per-week'].apply(lambda x: reduce_hours(x,n))\n",
    "group_after = df.groupby(['relationship','hours-per-week']).size().reset_index(name =\"count\")\n",
    "print(group_after.head(20))"
   ]
  },
  {
   "cell_type": "markdown",
   "id": "ef2aec99-a2dd-4ffe-aeb1-21cd4caf1451",
   "metadata": {},
   "source": [
    "# Lab Logbook Assignment\n",
    "- SID = 10 -> last digit = 0 -> so n=10"
   ]
  },
  {
   "cell_type": "code",
   "execution_count": null,
   "id": "5ed4c660-dba5-46a2-a355-4a5169f21473",
   "metadata": {},
   "outputs": [],
   "source": []
  },
  {
   "cell_type": "code",
   "execution_count": null,
   "id": "d9c28694-e37f-47b1-9a37-6c16faa58396",
   "metadata": {},
   "outputs": [],
   "source": []
  }
 ],
 "metadata": {
  "kernelspec": {
   "display_name": "Python [conda env:anaconda]",
   "language": "python",
   "name": "conda-env-anaconda-py"
  },
  "language_info": {
   "codemirror_mode": {
    "name": "ipython",
    "version": 3
   },
   "file_extension": ".py",
   "mimetype": "text/x-python",
   "name": "python",
   "nbconvert_exporter": "python",
   "pygments_lexer": "ipython3",
   "version": "3.13.5"
  }
 },
 "nbformat": 4,
 "nbformat_minor": 5
}
